{
 "cells": [
  {
   "cell_type": "code",
   "execution_count": 1,
   "metadata": {},
   "outputs": [],
   "source": [
    "import pandas as pd\n",
    "import numpy as np"
   ]
  },
  {
   "cell_type": "markdown",
   "metadata": {},
   "source": [
    "### Data Import"
   ]
  },
  {
   "cell_type": "code",
   "execution_count": 5,
   "metadata": {},
   "outputs": [],
   "source": [
    "mint_transaction_history = pd.read_csv('sourceData/mint_2019_2024.csv')\n",
    "\n",
    "mint_transaction_history.head(10)\n",
    "\n",
    "mint_transaction_history['Account Name'].unique()\n",
    "\n",
    "mint_account_aliases = {\n",
    "    'TD BEYOND CHECKING': 'Checking XXXX',\n",
    "    'HYSA': 'American Express Savings',\n",
    "    'Individual ...959': 'Charles Schwab Individual Investment Account',\n",
    "    'CREDITCARD Account': 'Capital One Credit Card'\n",
    "}\n",
    "\n",
    "mint_transaction_history['Account Name'].replace(mint_account_aliases, inplace=True)"
   ]
  },
  {
   "cell_type": "markdown",
   "metadata": {},
   "source": [
    "### CSV (Mint Transaction History) Handling"
   ]
  },
  {
   "cell_type": "code",
   "execution_count": null,
   "metadata": {},
   "outputs": [],
   "source": []
  },
  {
   "cell_type": "markdown",
   "metadata": {},
   "source": [
    "### PDF (Original Balance) Handling"
   ]
  },
  {
   "cell_type": "markdown",
   "metadata": {},
   "source": []
  }
 ],
 "metadata": {
  "kernelspec": {
   "display_name": "verisTools",
   "language": "python",
   "name": "python3"
  },
  "language_info": {
   "codemirror_mode": {
    "name": "ipython",
    "version": 3
   },
   "file_extension": ".py",
   "mimetype": "text/x-python",
   "name": "python",
   "nbconvert_exporter": "python",
   "pygments_lexer": "ipython3",
   "version": "3.10.0"
  }
 },
 "nbformat": 4,
 "nbformat_minor": 2
}
